{
  "nbformat": 4,
  "nbformat_minor": 0,
  "metadata": {
    "kernelspec": {
      "display_name": "Python 3",
      "language": "python",
      "name": "python3"
    },
    "language_info": {
      "codemirror_mode": {
        "name": "ipython",
        "version": 3
      },
      "file_extension": ".py",
      "mimetype": "text/x-python",
      "name": "python",
      "nbconvert_exporter": "python",
      "pygments_lexer": "ipython3",
      "version": "3.7.3"
    },
    "toc": {
      "base_numbering": 1,
      "nav_menu": {},
      "number_sections": false,
      "sideBar": true,
      "skip_h1_title": false,
      "title_cell": "Table of Contents",
      "title_sidebar": "Contents",
      "toc_cell": false,
      "toc_position": {},
      "toc_section_display": true,
      "toc_window_display": false
    },
    "colab": {
      "name": "preprocessing.ipynb",
      "provenance": [],
      "include_colab_link": true
    }
  },
  "cells": [
    {
      "cell_type": "markdown",
      "metadata": {
        "id": "view-in-github",
        "colab_type": "text"
      },
      "source": [
        "<a href=\"https://colab.research.google.com/github/j0shuajun/BOAZ_soccer/blob/master/preprocessing.ipynb\" target=\"_parent\"><img src=\"https://colab.research.google.com/assets/colab-badge.svg\" alt=\"Open In Colab\"/></a>"
      ]
    },
    {
      "cell_type": "code",
      "metadata": {
        "id": "fQ13DNTVD5B_",
        "colab_type": "code",
        "colab": {}
      },
      "source": [
        "import numpy as np\n",
        "import pandas as pd\n",
        "\n",
        "\n",
        "\n",
        "#########################\n",
        "#       READ FILE       #\n",
        "#########################\n",
        "\n",
        "def read_file(filename):\n",
        "    ext = filename.split('.')[1]\n",
        "    \n",
        "    if ext in ['txt', 'csv']:\n",
        "        file = pd.read_csv(filename, header = None, index_col = 0)\n",
        "    else:\n",
        "        file = pd.read_excel(filename, header = None, index_col = 0)\n",
        "        \n",
        "    drop_n = file.drop(1, axis = 1)\n",
        "    \n",
        "    return drop_n\n",
        "\n",
        "\n",
        "\n",
        "#########################\n",
        "#     MODIFY FORMAT     #\n",
        "#########################\n",
        "\n",
        "def wide2long(filename, div = 'player'):\n",
        "    data = read_file(filename)\n",
        "    df = pd.DataFrame()\n",
        "    \n",
        "    n = 10 if div =='player' else 4\n",
        "    \n",
        "    for i in range(n):\n",
        "        sav = data.iloc[:, 5*i : 5*i+5]\n",
        "        savIND = sav.index\n",
        "        savVAL = sav.values\n",
        "        \n",
        "        \n",
        "    df = df.append(pd.DataFrame(savVAL, columns = ['cx', 'cy', 'w', 'h', 'label']).assign(frame = savIND))\n",
        "    df = df[['frame','cx', 'cy','label']]\n",
        "        \n",
        "    return df\n",
        "\n",
        "\n",
        "\n",
        "#########################\n",
        "#      MERGE DATA       #\n",
        "#########################\n",
        "\n",
        "def full_data(team1, team2, ball):\n",
        "    t1 = wide2long(team1)\n",
        "    t2 = wide2long(team2)\n",
        "    b = wide2long(ball, 'ball')\n",
        "    \n",
        "    full = pd.concat([t1, t2, b]).sort_values(by=['label', 'frame'])\n",
        "    full.index = range(len(full))\n",
        "    \n",
        "    return full"
      ],
      "execution_count": 0,
      "outputs": []
    },
    {
      "cell_type": "code",
      "metadata": {
        "id": "1V0dT5_PD5CI",
        "colab_type": "code",
        "colab": {}
      },
      "source": [
        ""
      ],
      "execution_count": 0,
      "outputs": []
    }
  ]
}